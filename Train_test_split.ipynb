{
 "cells": [
  {
   "cell_type": "markdown",
   "id": "befc58e1-7641-4697-b48e-5c36b4ea027f",
   "metadata": {},
   "source": [
    "# Train Test Split"
   ]
  },
  {
   "cell_type": "markdown",
   "id": "67f9bd23-fff4-44d0-bff9-d4c6b6b9958a",
   "metadata": {},
   "source": [
    "* dataset change in 2 part ==> traing and testing"
   ]
  },
  {
   "cell_type": "markdown",
   "id": "ad5396d1-554d-4269-9a74-fe3d03f4a6d0",
   "metadata": {},
   "source": [
    "* when our data supervised then our data change in train test split otherwise no need ."
   ]
  },
  {
   "cell_type": "code",
   "execution_count": 7,
   "id": "aa2f54fe-1821-4f32-8e9e-8f0cc9a77d31",
   "metadata": {},
   "outputs": [],
   "source": [
    "import pandas as pd\n",
    "\n"
   ]
  },
  {
   "cell_type": "code",
   "execution_count": 9,
   "id": "08c52788-ab69-49dc-a928-393ff9effec7",
   "metadata": {},
   "outputs": [
    {
     "data": {
      "text/html": [
       "<div>\n",
       "<style scoped>\n",
       "    .dataframe tbody tr th:only-of-type {\n",
       "        vertical-align: middle;\n",
       "    }\n",
       "\n",
       "    .dataframe tbody tr th {\n",
       "        vertical-align: top;\n",
       "    }\n",
       "\n",
       "    .dataframe thead th {\n",
       "        text-align: right;\n",
       "    }\n",
       "</style>\n",
       "<table border=\"1\" class=\"dataframe\">\n",
       "  <thead>\n",
       "    <tr style=\"text-align: right;\">\n",
       "      <th></th>\n",
       "      <th>cgpa</th>\n",
       "      <th>resume_score</th>\n",
       "      <th>placed</th>\n",
       "    </tr>\n",
       "  </thead>\n",
       "  <tbody>\n",
       "    <tr>\n",
       "      <th>0</th>\n",
       "      <td>8.14</td>\n",
       "      <td>6.52</td>\n",
       "      <td>1</td>\n",
       "    </tr>\n",
       "    <tr>\n",
       "      <th>1</th>\n",
       "      <td>6.17</td>\n",
       "      <td>5.17</td>\n",
       "      <td>0</td>\n",
       "    </tr>\n",
       "    <tr>\n",
       "      <th>2</th>\n",
       "      <td>8.27</td>\n",
       "      <td>8.86</td>\n",
       "      <td>1</td>\n",
       "    </tr>\n",
       "    <tr>\n",
       "      <th>3</th>\n",
       "      <td>6.88</td>\n",
       "      <td>7.27</td>\n",
       "      <td>1</td>\n",
       "    </tr>\n",
       "    <tr>\n",
       "      <th>4</th>\n",
       "      <td>7.52</td>\n",
       "      <td>7.30</td>\n",
       "      <td>1</td>\n",
       "    </tr>\n",
       "  </tbody>\n",
       "</table>\n",
       "</div>"
      ],
      "text/plain": [
       "   cgpa  resume_score  placed\n",
       "0  8.14          6.52       1\n",
       "1  6.17          5.17       0\n",
       "2  8.27          8.86       1\n",
       "3  6.88          7.27       1\n",
       "4  7.52          7.30       1"
      ]
     },
     "execution_count": 9,
     "metadata": {},
     "output_type": "execute_result"
    }
   ],
   "source": [
    "dataset=pd.read_csv(\"C:\\\\Users\\\\ASUS\\\\OneDrive\\\\Desktop\\\\pandas\\\\placement.csv\")\n",
    "dataset.head(5)"
   ]
  },
  {
   "cell_type": "code",
   "execution_count": 11,
   "id": "8a5f286e-fdec-4bcf-a0de-f07c26496e12",
   "metadata": {},
   "outputs": [],
   "source": [
    "input_data=dataset.iloc[:,:-1]\n",
    "output_data=dataset[\"placed\"]"
   ]
  },
  {
   "cell_type": "code",
   "execution_count": 13,
   "id": "3e41f123-e8da-4fb9-b975-3e51a1483ffb",
   "metadata": {},
   "outputs": [],
   "source": [
    "from sklearn.model_selection import train_test_split"
   ]
  },
  {
   "cell_type": "code",
   "execution_count": 17,
   "id": "35788243-9455-4627-a70c-f79e8e6a46c9",
   "metadata": {},
   "outputs": [],
   "source": [
    "x_train , x_test, y_train, y_test=train_test_split(input_data,output_data,test_size=0.25)"
   ]
  },
  {
   "cell_type": "code",
   "execution_count": 19,
   "id": "ca6f4159-c93c-480b-b97d-d44b60c58562",
   "metadata": {},
   "outputs": [
    {
     "data": {
      "text/html": [
       "<div>\n",
       "<style scoped>\n",
       "    .dataframe tbody tr th:only-of-type {\n",
       "        vertical-align: middle;\n",
       "    }\n",
       "\n",
       "    .dataframe tbody tr th {\n",
       "        vertical-align: top;\n",
       "    }\n",
       "\n",
       "    .dataframe thead th {\n",
       "        text-align: right;\n",
       "    }\n",
       "</style>\n",
       "<table border=\"1\" class=\"dataframe\">\n",
       "  <thead>\n",
       "    <tr style=\"text-align: right;\">\n",
       "      <th></th>\n",
       "      <th>cgpa</th>\n",
       "      <th>resume_score</th>\n",
       "    </tr>\n",
       "  </thead>\n",
       "  <tbody>\n",
       "    <tr>\n",
       "      <th>18</th>\n",
       "      <td>5.94</td>\n",
       "      <td>5.88</td>\n",
       "    </tr>\n",
       "    <tr>\n",
       "      <th>65</th>\n",
       "      <td>6.04</td>\n",
       "      <td>8.75</td>\n",
       "    </tr>\n",
       "    <tr>\n",
       "      <th>5</th>\n",
       "      <td>8.77</td>\n",
       "      <td>6.19</td>\n",
       "    </tr>\n",
       "    <tr>\n",
       "      <th>69</th>\n",
       "      <td>8.06</td>\n",
       "      <td>9.06</td>\n",
       "    </tr>\n",
       "    <tr>\n",
       "      <th>60</th>\n",
       "      <td>5.87</td>\n",
       "      <td>6.64</td>\n",
       "    </tr>\n",
       "    <tr>\n",
       "      <th>...</th>\n",
       "      <td>...</td>\n",
       "      <td>...</td>\n",
       "    </tr>\n",
       "    <tr>\n",
       "      <th>6</th>\n",
       "      <td>5.34</td>\n",
       "      <td>7.09</td>\n",
       "    </tr>\n",
       "    <tr>\n",
       "      <th>98</th>\n",
       "      <td>8.14</td>\n",
       "      <td>5.63</td>\n",
       "    </tr>\n",
       "    <tr>\n",
       "      <th>1</th>\n",
       "      <td>6.17</td>\n",
       "      <td>5.17</td>\n",
       "    </tr>\n",
       "    <tr>\n",
       "      <th>75</th>\n",
       "      <td>6.34</td>\n",
       "      <td>7.94</td>\n",
       "    </tr>\n",
       "    <tr>\n",
       "      <th>29</th>\n",
       "      <td>6.19</td>\n",
       "      <td>7.30</td>\n",
       "    </tr>\n",
       "  </tbody>\n",
       "</table>\n",
       "<p>75 rows × 2 columns</p>\n",
       "</div>"
      ],
      "text/plain": [
       "    cgpa  resume_score\n",
       "18  5.94          5.88\n",
       "65  6.04          8.75\n",
       "5   8.77          6.19\n",
       "69  8.06          9.06\n",
       "60  5.87          6.64\n",
       "..   ...           ...\n",
       "6   5.34          7.09\n",
       "98  8.14          5.63\n",
       "1   6.17          5.17\n",
       "75  6.34          7.94\n",
       "29  6.19          7.30\n",
       "\n",
       "[75 rows x 2 columns]"
      ]
     },
     "execution_count": 19,
     "metadata": {},
     "output_type": "execute_result"
    }
   ],
   "source": [
    "x_train"
   ]
  },
  {
   "cell_type": "code",
   "execution_count": 21,
   "id": "f930bc91-456e-4662-ba1d-4630679eba16",
   "metadata": {},
   "outputs": [
    {
     "data": {
      "text/plain": [
       "47    1\n",
       "21    0\n",
       "14    1\n",
       "61    1\n",
       "40    1\n",
       "97    0\n",
       "66    1\n",
       "93    1\n",
       "22    0\n",
       "84    0\n",
       "48    0\n",
       "39    1\n",
       "33    1\n",
       "26    0\n",
       "36    1\n",
       "43    1\n",
       "74    0\n",
       "13    1\n",
       "23    0\n",
       "16    1\n",
       "53    0\n",
       "73    0\n",
       "92    0\n",
       "88    1\n",
       "63    1\n",
       "Name: placed, dtype: int64"
      ]
     },
     "execution_count": 21,
     "metadata": {},
     "output_type": "execute_result"
    }
   ],
   "source": [
    "y_test"
   ]
  },
  {
   "cell_type": "code",
   "execution_count": 23,
   "id": "acc69a5e-1b47-4dda-b2a3-4bffd6122c57",
   "metadata": {},
   "outputs": [
    {
     "data": {
      "text/plain": [
       "(100, 3)"
      ]
     },
     "execution_count": 23,
     "metadata": {},
     "output_type": "execute_result"
    }
   ],
   "source": [
    "dataset.shape"
   ]
  },
  {
   "cell_type": "code",
   "execution_count": 27,
   "id": "fff8b2af-8170-4629-972a-dcd10db7e306",
   "metadata": {},
   "outputs": [
    {
     "data": {
      "text/plain": [
       "(75, 2)"
      ]
     },
     "execution_count": 27,
     "metadata": {},
     "output_type": "execute_result"
    }
   ],
   "source": [
    "x_train.shape"
   ]
  },
  {
   "cell_type": "code",
   "execution_count": null,
   "id": "333685ac-e604-42b8-898e-e2f6ac6a5732",
   "metadata": {},
   "outputs": [],
   "source": []
  }
 ],
 "metadata": {
  "kernelspec": {
   "display_name": "Python 3 (ipykernel)",
   "language": "python",
   "name": "python3"
  },
  "language_info": {
   "codemirror_mode": {
    "name": "ipython",
    "version": 3
   },
   "file_extension": ".py",
   "mimetype": "text/x-python",
   "name": "python",
   "nbconvert_exporter": "python",
   "pygments_lexer": "ipython3",
   "version": "3.12.4"
  }
 },
 "nbformat": 4,
 "nbformat_minor": 5
}
