{
 "cells": [
  {
   "cell_type": "code",
   "execution_count": 1,
   "id": "79603fa2-bfc9-4f06-8807-60665800b0ba",
   "metadata": {},
   "outputs": [],
   "source": [
    "import pandas as pd"
   ]
  },
  {
   "cell_type": "code",
   "execution_count": 11,
   "id": "2b9b24ad-f0e6-4271-b396-42abe5b87572",
   "metadata": {},
   "outputs": [
    {
     "data": {
      "text/html": [
       "<div>\n",
       "<style scoped>\n",
       "    .dataframe tbody tr th:only-of-type {\n",
       "        vertical-align: middle;\n",
       "    }\n",
       "\n",
       "    .dataframe tbody tr th {\n",
       "        vertical-align: top;\n",
       "    }\n",
       "\n",
       "    .dataframe thead th {\n",
       "        text-align: right;\n",
       "    }\n",
       "</style>\n",
       "<table border=\"1\" class=\"dataframe\">\n",
       "  <thead>\n",
       "    <tr style=\"text-align: right;\">\n",
       "      <th></th>\n",
       "      <th>name</th>\n",
       "      <th>brand</th>\n",
       "      <th>sizes</th>\n",
       "      <th>skus</th>\n",
       "      <th>originalPrice</th>\n",
       "      <th>promotionalPrice</th>\n",
       "      <th>discountPercentage</th>\n",
       "    </tr>\n",
       "  </thead>\n",
       "  <tbody>\n",
       "    <tr>\n",
       "      <th>0</th>\n",
       "      <td>Blouse - off white</td>\n",
       "      <td>Anna Field</td>\n",
       "      <td>6, 8, 10, 12, 16, 18, 20, 22, 24, 26</td>\n",
       "      <td>AN621E0AO-A110034000, AN621E0AO-A110036000, AN...</td>\n",
       "      <td>£25.99</td>\n",
       "      <td>£22.00</td>\n",
       "      <td>15% off</td>\n",
       "    </tr>\n",
       "    <tr>\n",
       "      <th>1</th>\n",
       "      <td>LADIES OPEN EDGE TERRY TURN UP PANTS - Tracksu...</td>\n",
       "      <td>Urban Classics</td>\n",
       "      <td>XS, S, M, L, XL, 3XL, 4XL, 5XL</td>\n",
       "      <td>UR621A01M-Q1100XS000, UR621A01M-Q11000S000, UR...</td>\n",
       "      <td>£25.00</td>\n",
       "      <td>NaN</td>\n",
       "      <td>NaN</td>\n",
       "    </tr>\n",
       "    <tr>\n",
       "      <th>2</th>\n",
       "      <td>ONLNOELLE MIDI STRING SKIRT - A-line skirt - b...</td>\n",
       "      <td>ONLY</td>\n",
       "      <td>XS, S, M, L, XL, XXL, 3XL</td>\n",
       "      <td>ON321B1AF-Q1100XS000, ON321B1AF-Q11000S000, ON...</td>\n",
       "      <td>£35.99</td>\n",
       "      <td>NaN</td>\n",
       "      <td>NaN</td>\n",
       "    </tr>\n",
       "  </tbody>\n",
       "</table>\n",
       "</div>"
      ],
      "text/plain": [
       "                                                name           brand  \\\n",
       "0                                 Blouse - off white      Anna Field   \n",
       "1  LADIES OPEN EDGE TERRY TURN UP PANTS - Tracksu...  Urban Classics   \n",
       "2  ONLNOELLE MIDI STRING SKIRT - A-line skirt - b...            ONLY   \n",
       "\n",
       "                                  sizes  \\\n",
       "0  6, 8, 10, 12, 16, 18, 20, 22, 24, 26   \n",
       "1        XS, S, M, L, XL, 3XL, 4XL, 5XL   \n",
       "2             XS, S, M, L, XL, XXL, 3XL   \n",
       "\n",
       "                                                skus originalPrice  \\\n",
       "0  AN621E0AO-A110034000, AN621E0AO-A110036000, AN...        £25.99   \n",
       "1  UR621A01M-Q1100XS000, UR621A01M-Q11000S000, UR...        £25.00   \n",
       "2  ON321B1AF-Q1100XS000, ON321B1AF-Q11000S000, ON...        £35.99   \n",
       "\n",
       "  promotionalPrice discountPercentage  \n",
       "0           £22.00            15% off  \n",
       "1              NaN                NaN  \n",
       "2              NaN                NaN  "
      ]
     },
     "execution_count": 11,
     "metadata": {},
     "output_type": "execute_result"
    }
   ],
   "source": [
    "df=pd.read_csv(r\"C:\\Users\\ASUS\\OneDrive\\Desktop\\pandas\\zalando_womens_clothing.csv\")\n",
    "df.head(3)"
   ]
  },
  {
   "cell_type": "code",
   "execution_count": 12,
   "id": "b0123ac5-062e-4f89-9195-be2154eb4465",
   "metadata": {},
   "outputs": [
    {
     "data": {
      "text/plain": [
       "(10947, 7)"
      ]
     },
     "execution_count": 12,
     "metadata": {},
     "output_type": "execute_result"
    }
   ],
   "source": [
    "\n",
    "df.shape"
   ]
  },
  {
   "cell_type": "code",
   "execution_count": 13,
   "id": "7af97f03-3150-4521-8a3c-0c485ad07be0",
   "metadata": {},
   "outputs": [
    {
     "data": {
      "text/plain": [
       "name                     0\n",
       "brand                    0\n",
       "sizes                    7\n",
       "skus                     7\n",
       "originalPrice            0\n",
       "promotionalPrice      6675\n",
       "discountPercentage    6669\n",
       "dtype: int64"
      ]
     },
     "execution_count": 13,
     "metadata": {},
     "output_type": "execute_result"
    }
   ],
   "source": [
    "df.isnull().sum()"
   ]
  },
  {
   "cell_type": "code",
   "execution_count": 16,
   "id": "57d6a0e1-6ea2-42d1-87de-391f4fea648f",
   "metadata": {},
   "outputs": [
    {
     "data": {
      "text/plain": [
       "name                   0.000000\n",
       "brand                  0.000000\n",
       "sizes                  0.063944\n",
       "skus                   0.063944\n",
       "originalPrice          0.000000\n",
       "promotionalPrice      60.975610\n",
       "discountPercentage    60.920800\n",
       "dtype: float64"
      ]
     },
     "execution_count": 16,
     "metadata": {},
     "output_type": "execute_result"
    }
   ],
   "source": [
    "(df.isnull().sum()/df.shape[0])*100"
   ]
  },
  {
   "cell_type": "code",
   "execution_count": 17,
   "id": "eebd31ed-6cb1-4aa6-8771-798c68dbb9ac",
   "metadata": {},
   "outputs": [
    {
     "data": {
      "text/plain": [
       "13358"
      ]
     },
     "execution_count": 17,
     "metadata": {},
     "output_type": "execute_result"
    }
   ],
   "source": [
    "df.isnull().sum().sum()"
   ]
  },
  {
   "cell_type": "code",
   "execution_count": 18,
   "id": "13d96298-4fd7-4760-af53-7df567a872d1",
   "metadata": {},
   "outputs": [
    {
     "data": {
      "text/plain": [
       "17.43204269923919"
      ]
     },
     "execution_count": 18,
     "metadata": {},
     "output_type": "execute_result"
    }
   ],
   "source": [
    "(df.isnull().sum().sum())/(df.shape[0]*df.shape[1])*100"
   ]
  },
  {
   "cell_type": "code",
   "execution_count": 19,
   "id": "0c7ab4b3-7143-46b1-baae-d456ffef882e",
   "metadata": {},
   "outputs": [
    {
     "data": {
      "text/plain": [
       "63271"
      ]
     },
     "execution_count": 19,
     "metadata": {},
     "output_type": "execute_result"
    }
   ],
   "source": [
    "df.notnull().sum().sum()"
   ]
  },
  {
   "cell_type": "code",
   "execution_count": 20,
   "id": "fa4f4713-66c8-4d51-9def-8753e3181797",
   "metadata": {},
   "outputs": [
    {
     "data": {
      "text/plain": [
       "82.56795730076081"
      ]
     },
     "execution_count": 20,
     "metadata": {},
     "output_type": "execute_result"
    }
   ],
   "source": [
    "(df.notnull().sum().sum())/(df.shape[0]*df.shape[1])*100"
   ]
  },
  {
   "cell_type": "code",
   "execution_count": 24,
   "id": "3bd86956-cb72-49e3-9768-2400f387c94d",
   "metadata": {},
   "outputs": [],
   "source": [
    "import seaborn as sns \n",
    "import matplotlib.pyplot as plt "
   ]
  },
  {
   "cell_type": "code",
   "execution_count": 25,
   "id": "f327fced-d55f-4575-b1f7-ca1bf0c21c21",
   "metadata": {},
   "outputs": [
    {
     "data": {
      "image/png": "[encoded data removed]",
      "text/plain": [
       "<Figure size 640x480 with 2 Axes>"
      ]
     },
     "metadata": {},
     "output_type": "display_data"
    }
   ],
   "source": [
    "sns.heatmap(df.isnull())\n",
    "plt.show()"
   ]
  },
  {
   "cell_type": "code",
   "execution_count": null,
   "id": "eb4ae1ce-2c6c-4f3d-8c5e-4d6a791d0799",
   "metadata": {},
   "outputs": [],
   "source": []
  }
 ],
 "metadata": {
  "kernelspec": {
   "display_name": "Python 3 (ipykernel)",
   "language": "python",
   "name": "python3"
  },
  "language_info": {
   "codemirror_mode": {
    "name": "ipython",
    "version": 3
   },
   "file_extension": ".py",
   "mimetype": "text/x-python",
   "name": "python",
   "nbconvert_exporter": "python",
   "pygments_lexer": "ipython3",
   "version": "3.12.4"
  }
 },
 "nbformat": 4,
 "nbformat_minor": 5
}
